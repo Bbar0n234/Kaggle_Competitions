{
 "cells": [
  {
   "cell_type": "code",
   "execution_count": 1,
   "id": "e41cd111-bc0c-4805-9034-b3b7cf5fd575",
   "metadata": {},
   "outputs": [],
   "source": [
    "import pandas as pd\n",
    "\n",
    "\n",
    "from sklearn.linear_model import LogisticRegression \n",
    "from sklearn.ensemble import RandomForestClassifier\n",
    "from sklearn.neighbors import KNeighborsClassifier\n",
    "from xgboost import XGBClassifier\n",
    "\n",
    "from sklearn.model_selection import train_test_split\n",
    "\n",
    "from sklearn.metrics import accuracy_score\n",
    "from sklearn.metrics import mean_absolute_error\n",
    "from sklearn.metrics import mean_squared_error\n",
    "\n",
    "from sklearn.preprocessing import OneHotEncoder\n",
    "from sklearn.preprocessing import OrdinalEncoder\n",
    "from sklearn.impute import SimpleImputer"
   ]
  },
  {
   "cell_type": "markdown",
   "id": "32114a04-1557-42e4-924a-b808caf81ddf",
   "metadata": {},
   "source": [
    "# Цели\n",
    "### Pipeline\n",
    "### Пересмотреть препроцессинг (может быть, стоит разделить возраст людей на группы?)\n",
    "### Попробовать кросс валидацию?"
   ]
  },
  {
   "cell_type": "code",
   "execution_count": 2,
   "id": "d4c3f002-9ed2-48fa-a8db-70ea29019597",
   "metadata": {},
   "outputs": [],
   "source": [
    "def changeSexToBinary(row):\n",
    "    if row.Sex == 'male': \n",
    "        row.Sex = 1\n",
    "    elif row.Sex == 'female':\n",
    "        row.Sex = 0\n",
    "    return row\n",
    "\n",
    "\n",
    "def data_preprocessing(data):\n",
    "    current_data = data.drop(['Name', 'Ticket', \"Cabin\"], axis = 1) #выбрасываем колонки с ненужными данным\n",
    "\n",
    "    object_cols = ['Embarked'] #имена колонок с категориальными значениями, которые будем преобразовывать в колонки с одним активным состоянием\n",
    "    imputer = SimpleImputer(strategy='most_frequent') \n",
    "    OH_encoder = OneHotEncoder(handle_unknown='ignore', sparse_output = False)\n",
    "\n",
    "    if 'Survived' in current_data.columns: \n",
    "        X = current_data.drop(['Survived'], axis = 1)\n",
    "        y = current_data['Survived']\n",
    "    else:\n",
    "        X = current_data\n",
    "\n",
    "    imputed_X = pd.DataFrame(imputer.fit_transform(X)) \n",
    "    imputed_X.columns = X.columns\n",
    "\n",
    "    OH_cols = pd.DataFrame(OH_encoder.fit_transform(imputed_X[object_cols]))\n",
    "    num_X = imputed_X.drop(object_cols, axis = 1)\n",
    "    OH_cols.index = imputed_X.index\n",
    "\n",
    "    imputed_OH_X = pd.concat([num_X, OH_cols], axis = 1)\n",
    "    imputed_OH_X = imputed_OH_X.apply(changeSexToBinary, axis = 'columns')\n",
    "\n",
    "    imputed_OH_X.columns = imputed_OH_X.columns.astype(str)\n",
    "\n",
    "    if 'Survived' in current_data.columns:\n",
    "        return imputed_OH_X, y\n",
    "    else:\n",
    "        return imputed_OH_X"
   ]
  },
  {
   "cell_type": "code",
   "execution_count": 18,
   "id": "cd37f21d-98bb-4144-b8b0-ab6d19ce1368",
   "metadata": {},
   "outputs": [],
   "source": [
    "train_data = pd.read_csv('./data/train.csv')\n",
    "\n",
    "X, y = data_preprocessing(train_data)\n",
    "\n",
    "X_train, X_valid, y_train, y_valid = train_test_split(X, y, test_size=0.1, random_state=42)\n",
    "\n",
    "\n",
    "\n",
    "\n",
    "# my_model = XGBClassifier(max_depth = 2, learning_rate = 0.1, early_stopping_rounds = 5)\n",
    "# my_model.fit(X_train, y_train,\n",
    "#             eval_set = [(X_valid, y_valid)],\n",
    "#             verbose=False);\n",
    "\n",
    "# curr_preds = my_model.predict(X_valid)\n",
    "# print(accuracy_score(curr_preds, y_valid))"
   ]
  },
  {
   "cell_type": "code",
   "execution_count": 16,
   "id": "f2c22154-eed6-4575-aa4b-66ebef58ac86",
   "metadata": {},
   "outputs": [],
   "source": [
    "def testXGBClass(max_depth:int, learning_rate: float, early_stopping_rounds: int)->float:\n",
    "    X_valid_1, X_valid_2, y_valid_1, y_valid_2 = train_test_split(X_valid, y_valid, test_size = 0.5, random_state = 1)\n",
    "    \n",
    "    my_model = XGBClassifier(max_depth = max_depth, learning_rate = learning_rate, early_stopping_rounds = early_stopping_rounds)\n",
    "    my_model.fit(X_train, y_train,\n",
    "                eval_set=[(X_valid_1, y_valid_1)],\n",
    "                verbose=False)\n",
    "    \n",
    "    curr_preds = my_model.predict(X_valid_2)\n",
    "    return accuracy_score(curr_preds, y_valid_2)\n",
    "    "
   ]
  },
  {
   "cell_type": "code",
   "execution_count": 17,
   "id": "4de88eec-2c4c-4619-b86e-e7ac07fbcf34",
   "metadata": {},
   "outputs": [
    {
     "name": "stdout",
     "output_type": "stream",
     "text": [
      "0.8333333333333334 [3, 0.3, 5]\n"
     ]
    }
   ],
   "source": [
    "max_depth_list = [i for i in range (2, 25)]\n",
    "learning_rate_list = [0.03, 0.05, 0.07, 0.1, 0.12, 0.15, 0.18, 0.2, 0.22, 0.25, 0.27, 0.3 ]\n",
    "early_stopping_rounds_list = [i for i in range(3, 15, 2)]\n",
    "\n",
    "max_accuracy = 0\n",
    "ans_list = []\n",
    "\n",
    "for curr_depth in max_depth_list:\n",
    "    for curr_rate in learning_rate_list:\n",
    "        for curr_rounds in early_stopping_rounds_list:\n",
    "            curr_acc_score = testXGBClass(curr_depth, curr_rate, curr_rounds)\n",
    "            if curr_acc_score > max_accuracy:\n",
    "                max_accuracy = curr_acc_score\n",
    "                ans_list = [curr_depth, curr_rate, curr_rounds]\n",
    "print(max_accuracy, ans_list)"
   ]
  },
  {
   "cell_type": "code",
   "execution_count": 19,
   "id": "4f48247f-5621-493d-9542-2519fa8685aa",
   "metadata": {},
   "outputs": [],
   "source": [
    "my_model = XGBClassifier(max_depth = 3, learning_rate = 0.3, early_stopping_rounds = 5)\n",
    "my_model.fit(X_train, y_train, \n",
    "            eval_set=[(X_valid, y_valid)],\n",
    "            verbose=False)\n",
    "\n",
    "test_data = pd.read_csv('./data/test.csv')\n",
    "X_test = data_preprocessing(test_data)\n",
    "\n",
    "predicts = my_model.predict(X_test)\n",
    "outp = pd.DataFrame({\"PassengerId\": test_data['PassengerId'], \"Survived\": predicts})\n",
    "outp.to_csv('./submissions/SubmissionXGBFinal.csv', index=False)"
   ]
  },
  {
   "cell_type": "code",
   "execution_count": null,
   "id": "63f4d787-eb9b-41a6-a17c-5f2bc0566eed",
   "metadata": {},
   "outputs": [],
   "source": []
  },
  {
   "cell_type": "code",
   "execution_count": null,
   "id": "c3f7017b-7794-4c45-8cbe-d8bdd563556a",
   "metadata": {},
   "outputs": [],
   "source": []
  }
 ],
 "metadata": {
  "kernelspec": {
   "display_name": "Python 3 (ipykernel)",
   "language": "python",
   "name": "python3"
  },
  "language_info": {
   "codemirror_mode": {
    "name": "ipython",
    "version": 3
   },
   "file_extension": ".py",
   "mimetype": "text/x-python",
   "name": "python",
   "nbconvert_exporter": "python",
   "pygments_lexer": "ipython3",
   "version": "3.12.0"
  }
 },
 "nbformat": 4,
 "nbformat_minor": 5
}
